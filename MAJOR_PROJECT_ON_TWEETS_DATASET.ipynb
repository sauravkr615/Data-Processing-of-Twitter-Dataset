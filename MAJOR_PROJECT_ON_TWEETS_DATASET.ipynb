{
  "cells": [
    {
      "cell_type": "markdown",
      "metadata": {
        "id": "E11LeeiRtUjY"
      },
      "source": [
        "# <u>LOAD THE LIBRARIES</u>"
      ]
    },
    {
      "cell_type": "code",
      "execution_count": null,
      "metadata": {
        "id": "uq6PBd31tUjc"
      },
      "outputs": [],
      "source": [
        "import warnings\n",
        "warnings.filterwarnings('ignore')"
      ]
    },
    {
      "cell_type": "code",
      "execution_count": null,
      "metadata": {
        "id": "qzIYiE5gtUje"
      },
      "outputs": [],
      "source": [
        "from IPython.core.interactiveshell import InteractiveShell\n",
        "InteractiveShell.ast_node_interactivity = 'all'"
      ]
    },
    {
      "cell_type": "code",
      "execution_count": null,
      "metadata": {
        "id": "DKNjCHxQtUje"
      },
      "outputs": [],
      "source": [
        "import numpy as np\n",
        "import pandas as pd\n",
        "import matplotlib.pyplot as plt\n",
        "%matplotlib inline\n",
        "import seaborn as sns\n",
        "import math"
      ]
    },
    {
      "cell_type": "markdown",
      "metadata": {
        "id": "xJ3HeaoOtUjf"
      },
      "source": [
        "# <u>LOAD THE DATA</u>"
      ]
    },
    {
      "cell_type": "code",
      "execution_count": null,
      "metadata": {
        "id": "cdUrPyf_tUjf"
      },
      "outputs": [],
      "source": [
        "tweet_df = pd.read_csv(r'C:\\Users\\vamsh\\Downloads\\Tweets.csv')"
      ]
    },
    {
      "cell_type": "code",
      "execution_count": null,
      "metadata": {
        "id": "MMafiTV2tUjf",
        "outputId": "53322aef-3700-4b69-f142-e76cb620bc6a"
      },
      "outputs": [
        {
          "data": {
            "text/html": [
              "<div>\n",
              "<style scoped>\n",
              "    .dataframe tbody tr th:only-of-type {\n",
              "        vertical-align: middle;\n",
              "    }\n",
              "\n",
              "    .dataframe tbody tr th {\n",
              "        vertical-align: top;\n",
              "    }\n",
              "\n",
              "    .dataframe thead th {\n",
              "        text-align: right;\n",
              "    }\n",
              "</style>\n",
              "<table border=\"1\" class=\"dataframe\">\n",
              "  <thead>\n",
              "    <tr style=\"text-align: right;\">\n",
              "      <th></th>\n",
              "      <th>tweet_id</th>\n",
              "      <th>airline_sentiment</th>\n",
              "      <th>airline_sentiment_confidence</th>\n",
              "      <th>negativereason</th>\n",
              "      <th>negativereason_confidence</th>\n",
              "      <th>airline</th>\n",
              "      <th>airline_sentiment_gold</th>\n",
              "      <th>name</th>\n",
              "      <th>negativereason_gold</th>\n",
              "      <th>retweet_count</th>\n",
              "      <th>text</th>\n",
              "      <th>tweet_coord</th>\n",
              "      <th>tweet_created</th>\n",
              "      <th>tweet_location</th>\n",
              "      <th>user_timezone</th>\n",
              "    </tr>\n",
              "  </thead>\n",
              "  <tbody>\n",
              "    <tr>\n",
              "      <th>0</th>\n",
              "      <td>570306133677760513</td>\n",
              "      <td>neutral</td>\n",
              "      <td>1.0000</td>\n",
              "      <td>NaN</td>\n",
              "      <td>NaN</td>\n",
              "      <td>Virgin America</td>\n",
              "      <td>NaN</td>\n",
              "      <td>cairdin</td>\n",
              "      <td>NaN</td>\n",
              "      <td>0</td>\n",
              "      <td>@VirginAmerica What @dhepburn said.</td>\n",
              "      <td>NaN</td>\n",
              "      <td>2015-02-24 11:35:52 -0800</td>\n",
              "      <td>NaN</td>\n",
              "      <td>Eastern Time (US &amp; Canada)</td>\n",
              "    </tr>\n",
              "    <tr>\n",
              "      <th>1</th>\n",
              "      <td>570301130888122368</td>\n",
              "      <td>positive</td>\n",
              "      <td>0.3486</td>\n",
              "      <td>NaN</td>\n",
              "      <td>0.0000</td>\n",
              "      <td>Virgin America</td>\n",
              "      <td>NaN</td>\n",
              "      <td>jnardino</td>\n",
              "      <td>NaN</td>\n",
              "      <td>0</td>\n",
              "      <td>@VirginAmerica plus you've added commercials t...</td>\n",
              "      <td>NaN</td>\n",
              "      <td>2015-02-24 11:15:59 -0800</td>\n",
              "      <td>NaN</td>\n",
              "      <td>Pacific Time (US &amp; Canada)</td>\n",
              "    </tr>\n",
              "    <tr>\n",
              "      <th>2</th>\n",
              "      <td>570301083672813571</td>\n",
              "      <td>neutral</td>\n",
              "      <td>0.6837</td>\n",
              "      <td>NaN</td>\n",
              "      <td>NaN</td>\n",
              "      <td>Virgin America</td>\n",
              "      <td>NaN</td>\n",
              "      <td>yvonnalynn</td>\n",
              "      <td>NaN</td>\n",
              "      <td>0</td>\n",
              "      <td>@VirginAmerica I didn't today... Must mean I n...</td>\n",
              "      <td>NaN</td>\n",
              "      <td>2015-02-24 11:15:48 -0800</td>\n",
              "      <td>Lets Play</td>\n",
              "      <td>Central Time (US &amp; Canada)</td>\n",
              "    </tr>\n",
              "    <tr>\n",
              "      <th>3</th>\n",
              "      <td>570301031407624196</td>\n",
              "      <td>negative</td>\n",
              "      <td>1.0000</td>\n",
              "      <td>Bad Flight</td>\n",
              "      <td>0.7033</td>\n",
              "      <td>Virgin America</td>\n",
              "      <td>NaN</td>\n",
              "      <td>jnardino</td>\n",
              "      <td>NaN</td>\n",
              "      <td>0</td>\n",
              "      <td>@VirginAmerica it's really aggressive to blast...</td>\n",
              "      <td>NaN</td>\n",
              "      <td>2015-02-24 11:15:36 -0800</td>\n",
              "      <td>NaN</td>\n",
              "      <td>Pacific Time (US &amp; Canada)</td>\n",
              "    </tr>\n",
              "    <tr>\n",
              "      <th>4</th>\n",
              "      <td>570300817074462722</td>\n",
              "      <td>negative</td>\n",
              "      <td>1.0000</td>\n",
              "      <td>Can't Tell</td>\n",
              "      <td>1.0000</td>\n",
              "      <td>Virgin America</td>\n",
              "      <td>NaN</td>\n",
              "      <td>jnardino</td>\n",
              "      <td>NaN</td>\n",
              "      <td>0</td>\n",
              "      <td>@VirginAmerica and it's a really big bad thing...</td>\n",
              "      <td>NaN</td>\n",
              "      <td>2015-02-24 11:14:45 -0800</td>\n",
              "      <td>NaN</td>\n",
              "      <td>Pacific Time (US &amp; Canada)</td>\n",
              "    </tr>\n",
              "  </tbody>\n",
              "</table>\n",
              "</div>"
            ],
            "text/plain": [
              "             tweet_id airline_sentiment  airline_sentiment_confidence  \\\n",
              "0  570306133677760513           neutral                        1.0000   \n",
              "1  570301130888122368          positive                        0.3486   \n",
              "2  570301083672813571           neutral                        0.6837   \n",
              "3  570301031407624196          negative                        1.0000   \n",
              "4  570300817074462722          negative                        1.0000   \n",
              "\n",
              "  negativereason  negativereason_confidence         airline  \\\n",
              "0            NaN                        NaN  Virgin America   \n",
              "1            NaN                     0.0000  Virgin America   \n",
              "2            NaN                        NaN  Virgin America   \n",
              "3     Bad Flight                     0.7033  Virgin America   \n",
              "4     Can't Tell                     1.0000  Virgin America   \n",
              "\n",
              "  airline_sentiment_gold        name negativereason_gold  retweet_count  \\\n",
              "0                    NaN     cairdin                 NaN              0   \n",
              "1                    NaN    jnardino                 NaN              0   \n",
              "2                    NaN  yvonnalynn                 NaN              0   \n",
              "3                    NaN    jnardino                 NaN              0   \n",
              "4                    NaN    jnardino                 NaN              0   \n",
              "\n",
              "                                                text tweet_coord  \\\n",
              "0                @VirginAmerica What @dhepburn said.         NaN   \n",
              "1  @VirginAmerica plus you've added commercials t...         NaN   \n",
              "2  @VirginAmerica I didn't today... Must mean I n...         NaN   \n",
              "3  @VirginAmerica it's really aggressive to blast...         NaN   \n",
              "4  @VirginAmerica and it's a really big bad thing...         NaN   \n",
              "\n",
              "               tweet_created tweet_location               user_timezone  \n",
              "0  2015-02-24 11:35:52 -0800            NaN  Eastern Time (US & Canada)  \n",
              "1  2015-02-24 11:15:59 -0800            NaN  Pacific Time (US & Canada)  \n",
              "2  2015-02-24 11:15:48 -0800      Lets Play  Central Time (US & Canada)  \n",
              "3  2015-02-24 11:15:36 -0800            NaN  Pacific Time (US & Canada)  \n",
              "4  2015-02-24 11:14:45 -0800            NaN  Pacific Time (US & Canada)  "
            ]
          },
          "execution_count": 5,
          "metadata": {},
          "output_type": "execute_result"
        }
      ],
      "source": [
        "tweet_df.head()"
      ]
    },
    {
      "cell_type": "code",
      "execution_count": null,
      "metadata": {
        "id": "KqeUo4LwtUjg",
        "outputId": "5fd32753-69cf-4aa8-ba93-9bcb735c7231"
      },
      "outputs": [
        {
          "name": "stdout",
          "output_type": "stream",
          "text": [
            "<class 'pandas.core.frame.DataFrame'>\n",
            "RangeIndex: 14640 entries, 0 to 14639\n",
            "Data columns (total 15 columns):\n",
            " #   Column                        Non-Null Count  Dtype  \n",
            "---  ------                        --------------  -----  \n",
            " 0   tweet_id                      14640 non-null  int64  \n",
            " 1   airline_sentiment             14640 non-null  object \n",
            " 2   airline_sentiment_confidence  14640 non-null  float64\n",
            " 3   negativereason                9178 non-null   object \n",
            " 4   negativereason_confidence     10522 non-null  float64\n",
            " 5   airline                       14640 non-null  object \n",
            " 6   airline_sentiment_gold        40 non-null     object \n",
            " 7   name                          14640 non-null  object \n",
            " 8   negativereason_gold           32 non-null     object \n",
            " 9   retweet_count                 14640 non-null  int64  \n",
            " 10  text                          14640 non-null  object \n",
            " 11  tweet_coord                   1019 non-null   object \n",
            " 12  tweet_created                 14640 non-null  object \n",
            " 13  tweet_location                9907 non-null   object \n",
            " 14  user_timezone                 9820 non-null   object \n",
            "dtypes: float64(2), int64(2), object(11)\n",
            "memory usage: 1.7+ MB\n"
          ]
        }
      ],
      "source": [
        "tweet_df.info()"
      ]
    },
    {
      "cell_type": "code",
      "execution_count": null,
      "metadata": {
        "id": "UOTL9pjgtUjh",
        "outputId": "17f2097e-14e0-40f8-e161-29bc15b3dbbe"
      },
      "outputs": [
        {
          "data": {
            "text/plain": [
              "Index(['tweet_id', 'airline_sentiment', 'airline_sentiment_confidence',\n",
              "       'negativereason', 'negativereason_confidence', 'airline',\n",
              "       'airline_sentiment_gold', 'name', 'negativereason_gold',\n",
              "       'retweet_count', 'text', 'tweet_coord', 'tweet_created',\n",
              "       'tweet_location', 'user_timezone'],\n",
              "      dtype='object')"
            ]
          },
          "execution_count": 7,
          "metadata": {},
          "output_type": "execute_result"
        }
      ],
      "source": [
        "tweet_df.columns"
      ]
    },
    {
      "cell_type": "code",
      "execution_count": null,
      "metadata": {
        "id": "G6ek_JhVtUjh",
        "outputId": "51d6092d-93f3-4b24-b3bf-b91c02bd5bf1"
      },
      "outputs": [
        {
          "data": {
            "text/plain": [
              "(14640, 15)"
            ]
          },
          "execution_count": 8,
          "metadata": {},
          "output_type": "execute_result"
        }
      ],
      "source": [
        "tweet_df.shape"
      ]
    },
    {
      "cell_type": "code",
      "execution_count": null,
      "metadata": {
        "id": "nMc67k2WtUji",
        "outputId": "d20f4206-a55f-4e79-cc80-3f8d23e3be5a"
      },
      "outputs": [
        {
          "data": {
            "text/html": [
              "<style  type=\"text/css\" >\n",
              "    #T_f6fd87f0_dcb1_11ea_af76_c546683d947frow0_col0 {\n",
              "            background-color:  #7fc97f;\n",
              "            color:  #000000;\n",
              "        }    #T_f6fd87f0_dcb1_11ea_af76_c546683d947frow0_col1 {\n",
              "            background-color:  #666666;\n",
              "            color:  #f1f1f1;\n",
              "        }    #T_f6fd87f0_dcb1_11ea_af76_c546683d947frow0_col2 {\n",
              "            background-color:  #666666;\n",
              "            color:  #f1f1f1;\n",
              "        }    #T_f6fd87f0_dcb1_11ea_af76_c546683d947frow0_col3 {\n",
              "            background-color:  #666666;\n",
              "            color:  #f1f1f1;\n",
              "        }    #T_f6fd87f0_dcb1_11ea_af76_c546683d947frow1_col0 {\n",
              "            background-color:  #666666;\n",
              "            color:  #f1f1f1;\n",
              "        }    #T_f6fd87f0_dcb1_11ea_af76_c546683d947frow1_col1 {\n",
              "            background-color:  #7fc97f;\n",
              "            color:  #000000;\n",
              "        }    #T_f6fd87f0_dcb1_11ea_af76_c546683d947frow1_col2 {\n",
              "            background-color:  #fdc086;\n",
              "            color:  #000000;\n",
              "        }    #T_f6fd87f0_dcb1_11ea_af76_c546683d947frow1_col3 {\n",
              "            background-color:  #666666;\n",
              "            color:  #f1f1f1;\n",
              "        }    #T_f6fd87f0_dcb1_11ea_af76_c546683d947frow2_col0 {\n",
              "            background-color:  #666666;\n",
              "            color:  #f1f1f1;\n",
              "        }    #T_f6fd87f0_dcb1_11ea_af76_c546683d947frow2_col1 {\n",
              "            background-color:  #fdc086;\n",
              "            color:  #000000;\n",
              "        }    #T_f6fd87f0_dcb1_11ea_af76_c546683d947frow2_col2 {\n",
              "            background-color:  #7fc97f;\n",
              "            color:  #000000;\n",
              "        }    #T_f6fd87f0_dcb1_11ea_af76_c546683d947frow2_col3 {\n",
              "            background-color:  #666666;\n",
              "            color:  #f1f1f1;\n",
              "        }    #T_f6fd87f0_dcb1_11ea_af76_c546683d947frow3_col0 {\n",
              "            background-color:  #666666;\n",
              "            color:  #f1f1f1;\n",
              "        }    #T_f6fd87f0_dcb1_11ea_af76_c546683d947frow3_col1 {\n",
              "            background-color:  #666666;\n",
              "            color:  #f1f1f1;\n",
              "        }    #T_f6fd87f0_dcb1_11ea_af76_c546683d947frow3_col2 {\n",
              "            background-color:  #666666;\n",
              "            color:  #f1f1f1;\n",
              "        }    #T_f6fd87f0_dcb1_11ea_af76_c546683d947frow3_col3 {\n",
              "            background-color:  #7fc97f;\n",
              "            color:  #000000;\n",
              "        }</style><table id=\"T_f6fd87f0_dcb1_11ea_af76_c546683d947f\" ><thead>    <tr>        <th class=\"blank level0\" ></th>        <th class=\"col_heading level0 col0\" >tweet_id</th>        <th class=\"col_heading level0 col1\" >airline_sentiment_confidence</th>        <th class=\"col_heading level0 col2\" >negativereason_confidence</th>        <th class=\"col_heading level0 col3\" >retweet_count</th>    </tr></thead><tbody>\n",
              "                <tr>\n",
              "                        <th id=\"T_f6fd87f0_dcb1_11ea_af76_c546683d947flevel0_row0\" class=\"row_heading level0 row0\" >tweet_id</th>\n",
              "                        <td id=\"T_f6fd87f0_dcb1_11ea_af76_c546683d947frow0_col0\" class=\"data row0 col0\" >1.000000</td>\n",
              "                        <td id=\"T_f6fd87f0_dcb1_11ea_af76_c546683d947frow0_col1\" class=\"data row0 col1\" >0.024840</td>\n",
              "                        <td id=\"T_f6fd87f0_dcb1_11ea_af76_c546683d947frow0_col2\" class=\"data row0 col2\" >0.021533</td>\n",
              "                        <td id=\"T_f6fd87f0_dcb1_11ea_af76_c546683d947frow0_col3\" class=\"data row0 col3\" >-0.008852</td>\n",
              "            </tr>\n",
              "            <tr>\n",
              "                        <th id=\"T_f6fd87f0_dcb1_11ea_af76_c546683d947flevel0_row1\" class=\"row_heading level0 row1\" >airline_sentiment_confidence</th>\n",
              "                        <td id=\"T_f6fd87f0_dcb1_11ea_af76_c546683d947frow1_col0\" class=\"data row1 col0\" >0.024840</td>\n",
              "                        <td id=\"T_f6fd87f0_dcb1_11ea_af76_c546683d947frow1_col1\" class=\"data row1 col1\" >1.000000</td>\n",
              "                        <td id=\"T_f6fd87f0_dcb1_11ea_af76_c546683d947frow1_col2\" class=\"data row1 col2\" >0.685879</td>\n",
              "                        <td id=\"T_f6fd87f0_dcb1_11ea_af76_c546683d947frow1_col3\" class=\"data row1 col3\" >0.012581</td>\n",
              "            </tr>\n",
              "            <tr>\n",
              "                        <th id=\"T_f6fd87f0_dcb1_11ea_af76_c546683d947flevel0_row2\" class=\"row_heading level0 row2\" >negativereason_confidence</th>\n",
              "                        <td id=\"T_f6fd87f0_dcb1_11ea_af76_c546683d947frow2_col0\" class=\"data row2 col0\" >0.021533</td>\n",
              "                        <td id=\"T_f6fd87f0_dcb1_11ea_af76_c546683d947frow2_col1\" class=\"data row2 col1\" >0.685879</td>\n",
              "                        <td id=\"T_f6fd87f0_dcb1_11ea_af76_c546683d947frow2_col2\" class=\"data row2 col2\" >1.000000</td>\n",
              "                        <td id=\"T_f6fd87f0_dcb1_11ea_af76_c546683d947frow2_col3\" class=\"data row2 col3\" >0.021574</td>\n",
              "            </tr>\n",
              "            <tr>\n",
              "                        <th id=\"T_f6fd87f0_dcb1_11ea_af76_c546683d947flevel0_row3\" class=\"row_heading level0 row3\" >retweet_count</th>\n",
              "                        <td id=\"T_f6fd87f0_dcb1_11ea_af76_c546683d947frow3_col0\" class=\"data row3 col0\" >-0.008852</td>\n",
              "                        <td id=\"T_f6fd87f0_dcb1_11ea_af76_c546683d947frow3_col1\" class=\"data row3 col1\" >0.012581</td>\n",
              "                        <td id=\"T_f6fd87f0_dcb1_11ea_af76_c546683d947frow3_col2\" class=\"data row3 col2\" >0.021574</td>\n",
              "                        <td id=\"T_f6fd87f0_dcb1_11ea_af76_c546683d947frow3_col3\" class=\"data row3 col3\" >1.000000</td>\n",
              "            </tr>\n",
              "    </tbody></table>"
            ],
            "text/plain": [
              "<pandas.io.formats.style.Styler at 0x27671edd148>"
            ]
          },
          "execution_count": 9,
          "metadata": {},
          "output_type": "execute_result"
        }
      ],
      "source": [
        "tweet_df.corr().style.background_gradient(cmap = 'Accent_r')"
      ]
    },
    {
      "cell_type": "code",
      "execution_count": null,
      "metadata": {
        "id": "czFmStj_tUji",
        "outputId": "e5bb39f9-7bcb-4edb-81f1-204a18d177b9"
      },
      "outputs": [
        {
          "data": {
            "text/plain": [
              "<Figure size 600x400 with 0 Axes>"
            ]
          },
          "execution_count": 10,
          "metadata": {},
          "output_type": "execute_result"
        },
        {
          "data": {
            "text/plain": [
              "<matplotlib.axes._subplots.AxesSubplot at 0x27672194608>"
            ]
          },
          "execution_count": 10,
          "metadata": {},
          "output_type": "execute_result"
        },
        {
          "data": {
            "image/png": "[encoded data removed]",
            "text/plain": [
              "<Figure size 600x400 with 2 Axes>"
            ]
          },
          "metadata": {
            "needs_background": "light"
          },
          "output_type": "display_data"
        }
      ],
      "source": [
        "plt.figure(dpi = 100)\n",
        "sns.heatmap(tweet_df.corr(), cmap='Accent_r', annot=True)"
      ]
    },
    {
      "cell_type": "markdown",
      "metadata": {
        "id": "T5ZqdXB_tUji"
      },
      "source": [
        "## <u>PAIRPLOT</u>"
      ]
    },
    {
      "cell_type": "code",
      "execution_count": null,
      "metadata": {
        "id": "rRw7zg62tUjj",
        "outputId": "563dcf2a-407a-401b-c00d-6a74ce63f1bf"
      },
      "outputs": [
        {
          "data": {
            "text/plain": [
              "<seaborn.axisgrid.PairGrid at 0x27672184fc8>"
            ]
          },
          "execution_count": 11,
          "metadata": {},
          "output_type": "execute_result"
        },
        {
          "data": {
            "image/png": "[encoded data removed]",
            "text/plain": [
              "<Figure size 720x720 with 20 Axes>"
            ]
          },
          "metadata": {
            "needs_background": "light"
          },
          "output_type": "display_data"
        }
      ],
      "source": [
        "sns.pairplot(tweet_df)"
      ]
    },
    {
      "cell_type": "markdown",
      "metadata": {
        "id": "rVXrP1cRtUjj"
      },
      "source": [
        "## <u>HEATMAP</u>"
      ]
    },
    {
      "cell_type": "code",
      "execution_count": null,
      "metadata": {
        "id": "5zKFuAx6tUjj",
        "outputId": "3dec96f0-5f56-4789-a66b-200b4c2a4670"
      },
      "outputs": [
        {
          "data": {
            "text/plain": [
              "<matplotlib.axes._subplots.AxesSubplot at 0x276734b1f48>"
            ]
          },
          "execution_count": 12,
          "metadata": {},
          "output_type": "execute_result"
        },
        {
          "data": {
            "image/png": "[encoded data removed]",
            "text/plain": [
              "<Figure size 432x288 with 1 Axes>"
            ]
          },
          "metadata": {
            "needs_background": "light"
          },
          "output_type": "display_data"
        }
      ],
      "source": [
        "sns.heatmap(tweet_df.isnull(),yticklabels=False, cbar=False, cmap='viridis')"
      ]
    },
    {
      "cell_type": "markdown",
      "metadata": {
        "id": "h9FZ6yQytUjk"
      },
      "source": [
        "# <u>TEXT CLEANING</u>"
      ]
    },
    {
      "cell_type": "code",
      "execution_count": null,
      "metadata": {
        "id": "AYGZBGgYtUjk"
      },
      "outputs": [],
      "source": [
        "import nltk"
      ]
    },
    {
      "cell_type": "code",
      "execution_count": null,
      "metadata": {
        "id": "a9oido1_tUjk"
      },
      "outputs": [],
      "source": [
        "from nltk.tokenize import sent_tokenize, word_tokenize"
      ]
    },
    {
      "cell_type": "code",
      "execution_count": null,
      "metadata": {
        "id": "nrGdbsEBtUjl"
      },
      "outputs": [],
      "source": [
        "from nltk.corpus import stopwords"
      ]
    },
    {
      "cell_type": "code",
      "execution_count": null,
      "metadata": {
        "id": "9qHd93s3tUjl"
      },
      "outputs": [],
      "source": [
        "stopwords_list = stopwords.words('English')"
      ]
    },
    {
      "cell_type": "code",
      "execution_count": null,
      "metadata": {
        "id": "WMCvjoQgtUjl"
      },
      "outputs": [],
      "source": [
        "clean_messages = []\n",
        "\n",
        "for i in range(tweet_df.shape[0]):\n",
        "    clean_text = ''\n",
        "    current_text = word_tokenize(tweet_df['text'].values[i])\n",
        "    for word in current_text:\n",
        "        if word == '@' or word == 'VirginAmerica' or word == 'United' or word == 'SouthwestAir' or word == 'USAirways' or word == 'americanair' or word == 'AmericanAir' or word == 'jetblue' or word == 'delta' or word == 'Delta':\n",
        "            continue\n",
        "        if not word in stopwords_list:\n",
        "            clean_text = clean_text + ' ' + word\n",
        "        \n",
        "    clean_messages.append(clean_text)"
      ]
    },
    {
      "cell_type": "code",
      "execution_count": null,
      "metadata": {
        "id": "N_XUpQV5tUjm"
      },
      "outputs": [],
      "source": [
        "tweet_df['clean_text']=clean_messages"
      ]
    },
    {
      "cell_type": "code",
      "execution_count": null,
      "metadata": {
        "id": "nZhDv_cQtUjm"
      },
      "outputs": [],
      "source": [
        "tweet_df['clean_text']=tweet_df['clean_text'].apply(lambda x:\" \".join(word.lower() for word in x.split()))"
      ]
    },
    {
      "cell_type": "code",
      "execution_count": null,
      "metadata": {
        "id": "EI8-z2iutUjm"
      },
      "outputs": [],
      "source": [
        "tweet_df['clean_text']=tweet_df['clean_text'].str.replace('[^\\w\\s]','')"
      ]
    },
    {
      "cell_type": "code",
      "execution_count": null,
      "metadata": {
        "id": "5WnkE0NntUjm"
      },
      "outputs": [],
      "source": [
        "from nltk.stem.wordnet import WordNetLemmatizer"
      ]
    },
    {
      "cell_type": "code",
      "execution_count": null,
      "metadata": {
        "id": "O4v2MFiutUjn"
      },
      "outputs": [],
      "source": [
        "#nltk.download('wordnet')"
      ]
    },
    {
      "cell_type": "code",
      "execution_count": null,
      "metadata": {
        "id": "S2-C23F9tUjn"
      },
      "outputs": [],
      "source": [
        "wordnet = WordNetLemmatizer()"
      ]
    },
    {
      "cell_type": "code",
      "execution_count": null,
      "metadata": {
        "id": "kLwAswQutUjn"
      },
      "outputs": [],
      "source": [
        "tweet_df['clean_text']=tweet_df['clean_text'].apply(lambda x:' '.join(wordnet.lemmatize(word) for word in x.split()))"
      ]
    },
    {
      "cell_type": "code",
      "execution_count": null,
      "metadata": {
        "id": "2UTtEtrAtUjn",
        "outputId": "f38d6bb7-9fd6-4dbe-fe52-a781243d24b5"
      },
      "outputs": [
        {
          "data": {
            "text/html": [
              "<div>\n",
              "<style scoped>\n",
              "    .dataframe tbody tr th:only-of-type {\n",
              "        vertical-align: middle;\n",
              "    }\n",
              "\n",
              "    .dataframe tbody tr th {\n",
              "        vertical-align: top;\n",
              "    }\n",
              "\n",
              "    .dataframe thead th {\n",
              "        text-align: right;\n",
              "    }\n",
              "</style>\n",
              "<table border=\"1\" class=\"dataframe\">\n",
              "  <thead>\n",
              "    <tr style=\"text-align: right;\">\n",
              "      <th></th>\n",
              "      <th>text</th>\n",
              "      <th>clean_text</th>\n",
              "    </tr>\n",
              "  </thead>\n",
              "  <tbody>\n",
              "    <tr>\n",
              "      <th>0</th>\n",
              "      <td>@VirginAmerica What @dhepburn said.</td>\n",
              "      <td>what dhepburn said</td>\n",
              "    </tr>\n",
              "    <tr>\n",
              "      <th>1</th>\n",
              "      <td>@VirginAmerica plus you've added commercials t...</td>\n",
              "      <td>plus ve added commercial experience tacky</td>\n",
              "    </tr>\n",
              "    <tr>\n",
              "      <th>2</th>\n",
              "      <td>@VirginAmerica I didn't today... Must mean I n...</td>\n",
              "      <td>i nt today must mean i need take another trip</td>\n",
              "    </tr>\n",
              "    <tr>\n",
              "      <th>3</th>\n",
              "      <td>@VirginAmerica it's really aggressive to blast...</td>\n",
              "      <td>s really aggressive blast obnoxious entertainm...</td>\n",
              "    </tr>\n",
              "    <tr>\n",
              "      <th>4</th>\n",
              "      <td>@VirginAmerica and it's a really big bad thing...</td>\n",
              "      <td>s really big bad thing</td>\n",
              "    </tr>\n",
              "    <tr>\n",
              "      <th>...</th>\n",
              "      <td>...</td>\n",
              "      <td>...</td>\n",
              "    </tr>\n",
              "    <tr>\n",
              "      <th>14635</th>\n",
              "      <td>@AmericanAir thank you we got on a different f...</td>\n",
              "      <td>thank got different flight chicago</td>\n",
              "    </tr>\n",
              "    <tr>\n",
              "      <th>14636</th>\n",
              "      <td>@AmericanAir leaving over 20 minutes Late Flig...</td>\n",
              "      <td>leaving 20 minute late flight no warning commu...</td>\n",
              "    </tr>\n",
              "    <tr>\n",
              "      <th>14637</th>\n",
              "      <td>@AmericanAir Please bring American Airlines to...</td>\n",
              "      <td>please bring american airline blackberry10</td>\n",
              "    </tr>\n",
              "    <tr>\n",
              "      <th>14638</th>\n",
              "      <td>@AmericanAir you have my money, you change my ...</td>\n",
              "      <td>money change flight nt answer phone any sugges...</td>\n",
              "    </tr>\n",
              "    <tr>\n",
              "      <th>14639</th>\n",
              "      <td>@AmericanAir we have 8 ppl so we need 2 know h...</td>\n",
              "      <td>8 ppl need 2 know many seat next flight plz pu...</td>\n",
              "    </tr>\n",
              "  </tbody>\n",
              "</table>\n",
              "<p>14640 rows × 2 columns</p>\n",
              "</div>"
            ],
            "text/plain": [
              "                                                    text  \\\n",
              "0                    @VirginAmerica What @dhepburn said.   \n",
              "1      @VirginAmerica plus you've added commercials t...   \n",
              "2      @VirginAmerica I didn't today... Must mean I n...   \n",
              "3      @VirginAmerica it's really aggressive to blast...   \n",
              "4      @VirginAmerica and it's a really big bad thing...   \n",
              "...                                                  ...   \n",
              "14635  @AmericanAir thank you we got on a different f...   \n",
              "14636  @AmericanAir leaving over 20 minutes Late Flig...   \n",
              "14637  @AmericanAir Please bring American Airlines to...   \n",
              "14638  @AmericanAir you have my money, you change my ...   \n",
              "14639  @AmericanAir we have 8 ppl so we need 2 know h...   \n",
              "\n",
              "                                              clean_text  \n",
              "0                                     what dhepburn said  \n",
              "1              plus ve added commercial experience tacky  \n",
              "2          i nt today must mean i need take another trip  \n",
              "3      s really aggressive blast obnoxious entertainm...  \n",
              "4                                 s really big bad thing  \n",
              "...                                                  ...  \n",
              "14635                 thank got different flight chicago  \n",
              "14636  leaving 20 minute late flight no warning commu...  \n",
              "14637         please bring american airline blackberry10  \n",
              "14638  money change flight nt answer phone any sugges...  \n",
              "14639  8 ppl need 2 know many seat next flight plz pu...  \n",
              "\n",
              "[14640 rows x 2 columns]"
            ]
          },
          "execution_count": 25,
          "metadata": {},
          "output_type": "execute_result"
        }
      ],
      "source": [
        "tweet_df[['text','clean_text']]"
      ]
    },
    {
      "cell_type": "markdown",
      "metadata": {
        "id": "5dHJOGX7tUjo"
      },
      "source": [
        "**TEXT DATA IS CLEAN**"
      ]
    },
    {
      "cell_type": "code",
      "execution_count": null,
      "metadata": {
        "id": "6EAtAB-KtUjo"
      },
      "outputs": [],
      "source": [
        "tweet_df1=tweet_df[['tweet_id','airline_sentiment','airline_sentiment_confidence','airline','clean_text']]"
      ]
    },
    {
      "cell_type": "markdown",
      "metadata": {
        "id": "fweASvA7tUjo"
      },
      "source": [
        "# QUESTIONS AND ANSWERS"
      ]
    },
    {
      "cell_type": "markdown",
      "metadata": {
        "id": "6tOAuwyTtUjo"
      },
      "source": [
        "## 1.What are the most common words used by people who have taken the airline 'United'? "
      ]
    },
    {
      "cell_type": "code",
      "execution_count": null,
      "metadata": {
        "id": "dlO8cnrItUjp"
      },
      "outputs": [],
      "source": [
        "airline_df=tweet_df.loc[(tweet_df['airline']=='United')]"
      ]
    },
    {
      "cell_type": "code",
      "execution_count": null,
      "metadata": {
        "id": "Kyt0RONotUjp",
        "outputId": "29385ffb-b833-4c97-9430-49c3e47c2070"
      },
      "outputs": [
        {
          "name": "stdout",
          "output_type": "stream",
          "text": [
            "<FreqDist with 7163 samples and 64061 outcomes>\n"
          ]
        },
        {
          "data": {
            "text/plain": [
              "[('to', 2240)]"
            ]
          },
          "execution_count": 28,
          "metadata": {},
          "output_type": "execute_result"
        }
      ],
      "source": [
        "import re\n",
        "list1=[]\n",
        "for i in airline_df['text']:\n",
        "     list1.append(re.sub(r\"[\\d,@\\'?\\.$%_!#^&*)(-+=:;,./?|]\", \"\", i, flags=re.I))\n",
        "s1=''.join(list1)\n",
        "import nltk\n",
        "from nltk.tokenize import word_tokenize\n",
        "from nltk.corpus import stopwords\n",
        "AI_tokens=word_tokenize(s1)\n",
        "char_list=['http','lol','-','÷','[',']','#']\n",
        "AI_tokens= [ele for ele in AI_tokens if all(ch not in ele for ch in char_list)]\n",
        "\n",
        "from nltk.probability import FreqDist\n",
        "fdist=FreqDist()\n",
        "for word in AI_tokens:\n",
        "    fdist[word.lower()]+=1\n",
        "print(fdist)\n",
        "fdist1=fdist.most_common(1)\n",
        "fdist1"
      ]
    },
    {
      "cell_type": "markdown",
      "metadata": {
        "id": "Aa1hUSFHtUjw"
      },
      "source": [
        "## 2.What is the most common usertimezone who have taken the airine 'USAirways'?"
      ]
    },
    {
      "cell_type": "code",
      "execution_count": null,
      "metadata": {
        "id": "2tFEXXuhtUjx"
      },
      "outputs": [],
      "source": [
        "usertimezone_df=tweet_df.loc[(tweet_df['airline']=='Virgin America')]"
      ]
    },
    {
      "cell_type": "code",
      "execution_count": null,
      "metadata": {
        "id": "-WlWaDqptUjx"
      },
      "outputs": [],
      "source": [
        "from nltk.probability import FreqDist\n",
        "fdist=FreqDist()\n",
        "for i in usertimezone_df['user_timezone']:\n",
        "    fdist[i]+=1"
      ]
    },
    {
      "cell_type": "code",
      "execution_count": null,
      "metadata": {
        "id": "8hk_0f_JtUjx"
      },
      "outputs": [],
      "source": [
        "fdist1=fdist.most_common(1)"
      ]
    },
    {
      "cell_type": "code",
      "execution_count": null,
      "metadata": {
        "id": "U-ic_auXtUjy",
        "outputId": "624b66cd-f5a7-45d8-b5a8-3c78e3bebc15"
      },
      "outputs": [
        {
          "data": {
            "text/plain": [
              "[('Pacific Time (US & Canada)', 126)]"
            ]
          },
          "execution_count": 32,
          "metadata": {},
          "output_type": "execute_result"
        }
      ],
      "source": [
        "fdist1"
      ]
    },
    {
      "cell_type": "markdown",
      "metadata": {
        "id": "frFJv2P2tUjy"
      },
      "source": [
        "# <u>EXPLORATORY DATA ANALYSIS</u>"
      ]
    },
    {
      "cell_type": "markdown",
      "metadata": {
        "id": "ZTPChRdstUjy"
      },
      "source": [
        "## Distribution plots for all numberical variables"
      ]
    },
    {
      "cell_type": "markdown",
      "metadata": {
        "id": "Yk_RCapMtUjy"
      },
      "source": [
        "**a. Matplotlib Histograms:**"
      ]
    },
    {
      "cell_type": "code",
      "execution_count": null,
      "metadata": {
        "id": "RBZZTOrutUjy",
        "outputId": "bade4fb9-2e60-4584-f83e-2718fd30794b"
      },
      "outputs": [
        {
          "data": {
            "text/plain": [
              "Text(0.5, 1.0, 'tweet_id:')"
            ]
          },
          "execution_count": 33,
          "metadata": {},
          "output_type": "execute_result"
        },
        {
          "data": {
            "text/plain": [
              "<matplotlib.axes._subplots.AxesSubplot at 0x2767b391388>"
            ]
          },
          "execution_count": 33,
          "metadata": {},
          "output_type": "execute_result"
        },
        {
          "data": {
            "image/png": "[encoded data removed]",
            "text/plain": [
              "<Figure size 432x288 with 1 Axes>"
            ]
          },
          "metadata": {
            "needs_background": "light"
          },
          "output_type": "display_data"
        },
        {
          "data": {
            "text/plain": [
              "Text(0.5, 1.0, 'airline_sentiment_confidence:')"
            ]
          },
          "execution_count": 33,
          "metadata": {},
          "output_type": "execute_result"
        },
        {
          "data": {
            "text/plain": [
              "<matplotlib.axes._subplots.AxesSubplot at 0x2767b573588>"
            ]
          },
          "execution_count": 33,
          "metadata": {},
          "output_type": "execute_result"
        },
        {
          "data": {
            "image/png": "[encoded data removed]",
            "text/plain": [
              "<Figure size 432x288 with 1 Axes>"
            ]
          },
          "metadata": {
            "needs_background": "light"
          },
          "output_type": "display_data"
        }
      ],
      "source": [
        "for i in ['tweet_id','airline_sentiment_confidence']:\n",
        "    plt.title(i+\":\")\n",
        "    tweet_df[i].plot(kind='hist')\n",
        "    plt.show()"
      ]
    },
    {
      "cell_type": "markdown",
      "metadata": {
        "id": "etCF5pIwtUjz"
      },
      "source": [
        "**b. Seaborn Distribution and Box Plots:**"
      ]
    },
    {
      "cell_type": "code",
      "execution_count": null,
      "metadata": {
        "scrolled": false,
        "id": "tQNJYSQptUjz",
        "outputId": "b43f490c-4edc-4709-a575-ff7f4762d096"
      },
      "outputs": [
        {
          "data": {
            "text/plain": [
              "Text(0.5, 1.0, 'tweet_id :')"
            ]
          },
          "execution_count": 34,
          "metadata": {},
          "output_type": "execute_result"
        },
        {
          "data": {
            "text/plain": [
              "<matplotlib.axes._subplots.AxesSubplot at 0x27673723f08>"
            ]
          },
          "execution_count": 34,
          "metadata": {},
          "output_type": "execute_result"
        },
        {
          "data": {
            "image/png": "[encoded data removed]",
            "text/plain": [
              "<Figure size 432x288 with 1 Axes>"
            ]
          },
          "metadata": {
            "needs_background": "light"
          },
          "output_type": "display_data"
        },
        {
          "data": {
            "text/plain": [
              "<matplotlib.axes._subplots.AxesSubplot at 0x2767b6a9808>"
            ]
          },
          "execution_count": 34,
          "metadata": {},
          "output_type": "execute_result"
        },
        {
          "data": {
            "image/png": "[encoded data removed]",
            "text/plain": [
              "<Figure size 432x288 with 1 Axes>"
            ]
          },
          "metadata": {
            "needs_background": "light"
          },
          "output_type": "display_data"
        },
        {
          "name": "stdout",
          "output_type": "stream",
          "text": [
            "\n",
            "\n",
            "\n"
          ]
        },
        {
          "data": {
            "text/plain": [
              "Text(0.5, 1.0, 'airline_sentiment_confidence :')"
            ]
          },
          "execution_count": 34,
          "metadata": {},
          "output_type": "execute_result"
        },
        {
          "data": {
            "text/plain": [
              "<matplotlib.axes._subplots.AxesSubplot at 0x2767b706b88>"
            ]
          },
          "execution_count": 34,
          "metadata": {},
          "output_type": "execute_result"
        },
        {
          "data": {
            "image/png": "[encoded data removed]",
            "text/plain": [
              "<Figure size 432x288 with 1 Axes>"
            ]
          },
          "metadata": {
            "needs_background": "light"
          },
          "output_type": "display_data"
        },
        {
          "data": {
            "text/plain": [
              "<matplotlib.axes._subplots.AxesSubplot at 0x2767b7b5988>"
            ]
          },
          "execution_count": 34,
          "metadata": {},
          "output_type": "execute_result"
        },
        {
          "data": {
            "image/png": "[encoded data removed]",
            "text/plain": [
              "<Figure size 432x288 with 1 Axes>"
            ]
          },
          "metadata": {
            "needs_background": "light"
          },
          "output_type": "display_data"
        },
        {
          "name": "stdout",
          "output_type": "stream",
          "text": [
            "\n",
            "\n",
            "\n"
          ]
        }
      ],
      "source": [
        "for i in ['tweet_id','airline_sentiment_confidence']:\n",
        "    plt.title(i+' :')\n",
        "    sns.distplot(tweet_df[i])\n",
        "    plt.show()\n",
        "    sns.boxplot(tweet_df[i])\n",
        "    plt.show()\n",
        "    print('\\n\\n')"
      ]
    },
    {
      "cell_type": "markdown",
      "metadata": {
        "id": "GQ5CLE9TtUjz"
      },
      "source": [
        "# BAR-CHART AND PIE-CHART FOR CATEGORICAL VARIABLES"
      ]
    },
    {
      "cell_type": "markdown",
      "metadata": {
        "id": "Zob8hihJtUjz"
      },
      "source": [
        "## BAR-CHART"
      ]
    },
    {
      "cell_type": "code",
      "execution_count": null,
      "metadata": {
        "id": "TLRolnR1tUj0",
        "outputId": "bbd3803d-dab1-4f13-c291-cf80470b69d4"
      },
      "outputs": [
        {
          "data": {
            "text/plain": [
              "<matplotlib.axes._subplots.AxesSubplot at 0x2767b83cc08>"
            ]
          },
          "execution_count": 35,
          "metadata": {},
          "output_type": "execute_result"
        },
        {
          "data": {
            "text/plain": [
              "Text(0.5, 0, 'airline_sentiment_confidence')"
            ]
          },
          "execution_count": 35,
          "metadata": {},
          "output_type": "execute_result"
        },
        {
          "data": {
            "text/plain": [
              "Text(0, 0.5, 'Frequency')"
            ]
          },
          "execution_count": 35,
          "metadata": {},
          "output_type": "execute_result"
        },
        {
          "data": {
            "text/plain": [
              "Text(0.5, 1.0, 'Barchart of airline')"
            ]
          },
          "execution_count": 35,
          "metadata": {},
          "output_type": "execute_result"
        },
        {
          "data": {
            "image/png": "[encoded data removed]",
            "text/plain": [
              "<Figure size 1152x576 with 1 Axes>"
            ]
          },
          "metadata": {
            "needs_background": "light"
          },
          "output_type": "display_data"
        }
      ],
      "source": [
        "tweet_df['airline'].value_counts().plot(kind='bar', figsize=[16,8], edgecolor='yellow', color='orange')\n",
        "plt.xlabel(i, fontsize=16)\n",
        "plt.ylabel('Frequency', fontsize=16)\n",
        "plt.title('Barchart of airline', fontsize=16)\n",
        "plt.show()"
      ]
    },
    {
      "cell_type": "markdown",
      "metadata": {
        "id": "xb7hywMqtUj0"
      },
      "source": [
        "## PIE-CHART"
      ]
    },
    {
      "cell_type": "code",
      "execution_count": null,
      "metadata": {
        "id": "qwutkXEVtUj0",
        "outputId": "3a4b2cce-ae5f-4f3b-e01c-a9b03d084e9b"
      },
      "outputs": [
        {
          "data": {
            "text/plain": [
              "Text(0.5, 1.0, 'Pie-Chart of airline')"
            ]
          },
          "execution_count": 36,
          "metadata": {},
          "output_type": "execute_result"
        },
        {
          "data": {
            "text/plain": [
              "<matplotlib.axes._subplots.AxesSubplot at 0x2767b869e08>"
            ]
          },
          "execution_count": 36,
          "metadata": {},
          "output_type": "execute_result"
        },
        {
          "data": {
            "image/png": "[encoded data removed]",
            "text/plain": [
              "<Figure size 432x288 with 1 Axes>"
            ]
          },
          "metadata": {},
          "output_type": "display_data"
        }
      ],
      "source": [
        "plt.title('Pie-Chart of airline', fontsize=16)\n",
        "tweet_df['airline'].value_counts().plot(kind='pie', radius=2)\n",
        "plt.show()"
      ]
    },
    {
      "cell_type": "markdown",
      "metadata": {
        "id": "cZ2Vn2GntUj0"
      },
      "source": [
        "# LABEL ENCODING"
      ]
    },
    {
      "cell_type": "code",
      "execution_count": null,
      "metadata": {
        "id": "nE3TTorJtUj1"
      },
      "outputs": [],
      "source": [
        "from sklearn.preprocessing import LabelEncoder\n",
        "le=LabelEncoder()"
      ]
    },
    {
      "cell_type": "code",
      "execution_count": null,
      "metadata": {
        "id": "yo90twAAtUj1"
      },
      "outputs": [],
      "source": [
        "tweet_df1['airline']=le.fit_transform(tweet_df1['airline'])"
      ]
    },
    {
      "cell_type": "code",
      "execution_count": null,
      "metadata": {
        "id": "zHrSfg3DtUj1",
        "outputId": "a546e4ee-76e7-4e33-9a5c-12ed847505f2"
      },
      "outputs": [
        {
          "data": {
            "text/html": [
              "<div>\n",
              "<style scoped>\n",
              "    .dataframe tbody tr th:only-of-type {\n",
              "        vertical-align: middle;\n",
              "    }\n",
              "\n",
              "    .dataframe tbody tr th {\n",
              "        vertical-align: top;\n",
              "    }\n",
              "\n",
              "    .dataframe thead th {\n",
              "        text-align: right;\n",
              "    }\n",
              "</style>\n",
              "<table border=\"1\" class=\"dataframe\">\n",
              "  <thead>\n",
              "    <tr style=\"text-align: right;\">\n",
              "      <th></th>\n",
              "      <th>tweet_id</th>\n",
              "      <th>airline_sentiment</th>\n",
              "      <th>airline_sentiment_confidence</th>\n",
              "      <th>airline</th>\n",
              "      <th>clean_text</th>\n",
              "    </tr>\n",
              "  </thead>\n",
              "  <tbody>\n",
              "    <tr>\n",
              "      <th>0</th>\n",
              "      <td>570306133677760513</td>\n",
              "      <td>neutral</td>\n",
              "      <td>1.0000</td>\n",
              "      <td>5</td>\n",
              "      <td>what dhepburn said</td>\n",
              "    </tr>\n",
              "    <tr>\n",
              "      <th>1</th>\n",
              "      <td>570301130888122368</td>\n",
              "      <td>positive</td>\n",
              "      <td>0.3486</td>\n",
              "      <td>5</td>\n",
              "      <td>plus ve added commercial experience tacky</td>\n",
              "    </tr>\n",
              "    <tr>\n",
              "      <th>2</th>\n",
              "      <td>570301083672813571</td>\n",
              "      <td>neutral</td>\n",
              "      <td>0.6837</td>\n",
              "      <td>5</td>\n",
              "      <td>i nt today must mean i need take another trip</td>\n",
              "    </tr>\n",
              "    <tr>\n",
              "      <th>3</th>\n",
              "      <td>570301031407624196</td>\n",
              "      <td>negative</td>\n",
              "      <td>1.0000</td>\n",
              "      <td>5</td>\n",
              "      <td>s really aggressive blast obnoxious entertainm...</td>\n",
              "    </tr>\n",
              "    <tr>\n",
              "      <th>4</th>\n",
              "      <td>570300817074462722</td>\n",
              "      <td>negative</td>\n",
              "      <td>1.0000</td>\n",
              "      <td>5</td>\n",
              "      <td>s really big bad thing</td>\n",
              "    </tr>\n",
              "  </tbody>\n",
              "</table>\n",
              "</div>"
            ],
            "text/plain": [
              "             tweet_id airline_sentiment  airline_sentiment_confidence  \\\n",
              "0  570306133677760513           neutral                        1.0000   \n",
              "1  570301130888122368          positive                        0.3486   \n",
              "2  570301083672813571           neutral                        0.6837   \n",
              "3  570301031407624196          negative                        1.0000   \n",
              "4  570300817074462722          negative                        1.0000   \n",
              "\n",
              "   airline                                         clean_text  \n",
              "0        5                                 what dhepburn said  \n",
              "1        5          plus ve added commercial experience tacky  \n",
              "2        5      i nt today must mean i need take another trip  \n",
              "3        5  s really aggressive blast obnoxious entertainm...  \n",
              "4        5                             s really big bad thing  "
            ]
          },
          "execution_count": 39,
          "metadata": {},
          "output_type": "execute_result"
        }
      ],
      "source": [
        "tweet_df1.head()"
      ]
    },
    {
      "cell_type": "markdown",
      "metadata": {
        "id": "_v5vcO7XtUj1"
      },
      "source": [
        "**LABEL ENCODING 'AIRLINE' COLUMN**"
      ]
    },
    {
      "cell_type": "markdown",
      "metadata": {
        "id": "86c2NdrUtUj1"
      },
      "source": [
        "**<u>THE INDEPENDENT VARIABLES ARE</u>: 1.tweet_id 2.airline_sentiment_confidence 3.airline 4.clean_text**"
      ]
    },
    {
      "cell_type": "markdown",
      "metadata": {
        "id": "HSGAaavntUj2"
      },
      "source": [
        "**<u>THE DEPENDENT VARIABLE IS</u>: airline_sentiment**"
      ]
    },
    {
      "cell_type": "markdown",
      "metadata": {
        "id": "t0kjFR76tUj2"
      },
      "source": [
        "# <u>TfidfVectorizer and hstack</u>"
      ]
    },
    {
      "cell_type": "code",
      "execution_count": null,
      "metadata": {
        "id": "R7s7xd5itUj2"
      },
      "outputs": [],
      "source": [
        "from sklearn.feature_extraction.text import TfidfVectorizer\n",
        "from scipy.sparse import hstack\n",
        "vectorizer = TfidfVectorizer(min_df=5)\n",
        "X_tfidf = vectorizer.fit_transform(tweet_df1['clean_text']) "
      ]
    },
    {
      "cell_type": "markdown",
      "metadata": {
        "id": "L7CokmR0tUj2"
      },
      "source": [
        "**In CountVectorizer we only count the number of times a word appears in the document which results in biasing in favour of most frequent words. this ends up in ignoring rare words which could have helped is in processing our data more efficiently.**\n",
        "\n",
        "**To overcome this , we use TfidfVectorizer .**\n",
        "\n",
        "**In TfidfVectorizer we consider overall document weightage of a word. It helps us in dealing with most frequent words. Using it we can penalize them. TfidfVectorizer weights the word counts by a measure of how often they appear in the documents.**"
      ]
    },
    {
      "cell_type": "code",
      "execution_count": null,
      "metadata": {
        "id": "POPuYpzxtUj3"
      },
      "outputs": [],
      "source": [
        "X=hstack([tweet_df1[['tweet_id','airline_sentiment_confidence','airline']],X_tfidf])"
      ]
    },
    {
      "cell_type": "markdown",
      "metadata": {
        "id": "Uciixq2ItUj3"
      },
      "source": [
        "**HERE,WE USE HSTACK TO COMBINE TEXT COLUMN AND OTHER COLUMNS AS OUR INDEPENDENT VARIABLES.**"
      ]
    },
    {
      "cell_type": "markdown",
      "metadata": {
        "id": "6A8gbYXatUj3"
      },
      "source": [
        "# <u>MACHINE LEARNING ALGORITHMS</u>"
      ]
    },
    {
      "cell_type": "markdown",
      "metadata": {
        "id": "NiWfk2MDtUj3"
      },
      "source": [
        "## LOGISTIC REGRESSION "
      ]
    },
    {
      "cell_type": "code",
      "execution_count": null,
      "metadata": {
        "id": "RxDACQ3JtUj3",
        "outputId": "c9c9f3e7-4e31-4322-93d3-9797eeb865f1"
      },
      "outputs": [
        {
          "data": {
            "text/plain": [
              "LogisticRegression(C=1.0, class_weight=None, dual=False, fit_intercept=True,\n",
              "                   intercept_scaling=1, l1_ratio=None, max_iter=100,\n",
              "                   multi_class='auto', n_jobs=None, penalty='l2',\n",
              "                   random_state=None, solver='lbfgs', tol=0.0001, verbose=0,\n",
              "                   warm_start=False)"
            ]
          },
          "execution_count": 42,
          "metadata": {},
          "output_type": "execute_result"
        },
        {
          "data": {
            "text/plain": [
              "0.6234972677595628"
            ]
          },
          "execution_count": 42,
          "metadata": {},
          "output_type": "execute_result"
        }
      ],
      "source": [
        "from sklearn.model_selection import train_test_split\n",
        "from sklearn.linear_model import LogisticRegression\n",
        "logreg=LogisticRegression()\n",
        "Y=tweet_df1['airline_sentiment']\n",
        "X_train, X_test, Y_train, Y_test = train_test_split(X,Y)\n",
        "logreg.fit(X_train,Y_train)\n",
        "y_pred=logreg.predict(X_test)\n",
        "logreg.score(X_test,Y_test)"
      ]
    },
    {
      "cell_type": "markdown",
      "metadata": {
        "id": "2R3bPsO_tUj4"
      },
      "source": [
        "## SUPPORT VECTOR CLASSIFIER(SVC) "
      ]
    },
    {
      "cell_type": "code",
      "execution_count": null,
      "metadata": {
        "id": "gWLZlY0htUj4",
        "outputId": "8d7ebfeb-c4cc-4be1-fabf-280db32fac24"
      },
      "outputs": [
        {
          "data": {
            "text/plain": [
              "SVC(C=1.0, break_ties=False, cache_size=200, class_weight=None, coef0=0.0,\n",
              "    decision_function_shape='ovr', degree=3, gamma='scale', kernel='rbf',\n",
              "    max_iter=-1, probability=False, random_state=None, shrinking=True,\n",
              "    tol=0.001, verbose=False)"
            ]
          },
          "execution_count": 43,
          "metadata": {},
          "output_type": "execute_result"
        }
      ],
      "source": [
        "from sklearn.svm import SVC\n",
        "svc=SVC()\n",
        "svc.fit(X_train,Y_train)\n",
        "y_pred=svc.predict(X_test) "
      ]
    },
    {
      "cell_type": "code",
      "execution_count": null,
      "metadata": {
        "id": "YO7cQU6_tUj4"
      },
      "outputs": [],
      "source": [
        "from sklearn.metrics import accuracy_score"
      ]
    },
    {
      "cell_type": "code",
      "execution_count": null,
      "metadata": {
        "id": "s_W6_xqmtUj4",
        "outputId": "357ac41d-c276-4164-883c-fb99d5a3736e"
      },
      "outputs": [
        {
          "data": {
            "text/plain": [
              "0.6234972677595628"
            ]
          },
          "execution_count": 45,
          "metadata": {},
          "output_type": "execute_result"
        }
      ],
      "source": [
        "accuracy_score(Y_test,y_pred)"
      ]
    },
    {
      "cell_type": "markdown",
      "metadata": {
        "id": "TFkp_9YHtUj5"
      },
      "source": [
        "## DECISION TREE CLASSIFIER"
      ]
    },
    {
      "cell_type": "code",
      "execution_count": null,
      "metadata": {
        "id": "udnq9-RKtUj5",
        "outputId": "e378f006-a973-4b85-de61-47a1e2272e68"
      },
      "outputs": [
        {
          "data": {
            "text/plain": [
              "DecisionTreeClassifier(ccp_alpha=0.0, class_weight=None, criterion='gini',\n",
              "                       max_depth=None, max_features=None, max_leaf_nodes=None,\n",
              "                       min_impurity_decrease=0.0, min_impurity_split=None,\n",
              "                       min_samples_leaf=1, min_samples_split=2,\n",
              "                       min_weight_fraction_leaf=0.0, presort='deprecated',\n",
              "                       random_state=None, splitter='best')"
            ]
          },
          "execution_count": 46,
          "metadata": {},
          "output_type": "execute_result"
        }
      ],
      "source": [
        "from sklearn.tree import DecisionTreeClassifier\n",
        "clf = DecisionTreeClassifier()\n",
        "clf.fit(X_train,Y_train)"
      ]
    },
    {
      "cell_type": "code",
      "execution_count": null,
      "metadata": {
        "id": "RB6_I7bktUj5"
      },
      "outputs": [],
      "source": [
        "y_pred=clf.predict(X_test)"
      ]
    },
    {
      "cell_type": "code",
      "execution_count": null,
      "metadata": {
        "id": "OhyeY7FjtUj6",
        "outputId": "d9f0bbdc-23c3-478f-af35-b597b06c6248"
      },
      "outputs": [
        {
          "data": {
            "text/plain": [
              "0.683879781420765"
            ]
          },
          "execution_count": 48,
          "metadata": {},
          "output_type": "execute_result"
        }
      ],
      "source": [
        "accuracy_score(Y_test,y_pred)"
      ]
    },
    {
      "cell_type": "markdown",
      "metadata": {
        "id": "jdhFtVXNtUj6"
      },
      "source": [
        "## NAIVE BAYES"
      ]
    },
    {
      "cell_type": "code",
      "execution_count": null,
      "metadata": {
        "id": "Cu6FaugUtUj6",
        "outputId": "4fb5d54d-c57e-453c-da96-654d2348b858"
      },
      "outputs": [
        {
          "data": {
            "text/plain": [
              "MultinomialNB(alpha=1.0, class_prior=None, fit_prior=True)"
            ]
          },
          "execution_count": 49,
          "metadata": {},
          "output_type": "execute_result"
        },
        {
          "data": {
            "text/plain": [
              "0.7655737704918033"
            ]
          },
          "execution_count": 49,
          "metadata": {},
          "output_type": "execute_result"
        }
      ],
      "source": [
        "from sklearn.naive_bayes import MultinomialNB\n",
        "X_train, X_test, Y_train, Y_test = train_test_split(X,Y)\n",
        "nb = MultinomialNB()\n",
        "nb.fit(X_train, Y_train)\n",
        "y_pred = nb.predict(X_test)\n",
        "from sklearn.metrics import accuracy_score\n",
        "accuracy_score(y_pred, Y_test)"
      ]
    },
    {
      "cell_type": "markdown",
      "metadata": {
        "id": "eWmZnROxtUj6"
      },
      "source": [
        "## RANDOM FOREST CLASSIFIER "
      ]
    },
    {
      "cell_type": "code",
      "execution_count": null,
      "metadata": {
        "id": "znn-pexMtUj7",
        "outputId": "cff22603-e470-428c-e958-58bbce087ab4"
      },
      "outputs": [
        {
          "data": {
            "text/plain": [
              "RandomForestClassifier(bootstrap=True, ccp_alpha=0.0, class_weight=None,\n",
              "                       criterion='gini', max_depth=None, max_features='auto',\n",
              "                       max_leaf_nodes=None, max_samples=None,\n",
              "                       min_impurity_decrease=0.0, min_impurity_split=None,\n",
              "                       min_samples_leaf=1, min_samples_split=2,\n",
              "                       min_weight_fraction_leaf=0.0, n_estimators=100,\n",
              "                       n_jobs=None, oob_score=False, random_state=None,\n",
              "                       verbose=0, warm_start=False)"
            ]
          },
          "execution_count": 50,
          "metadata": {},
          "output_type": "execute_result"
        }
      ],
      "source": [
        "from sklearn.ensemble import RandomForestClassifier\n",
        "clf=RandomForestClassifier(n_estimators=100)\n",
        "clf.fit(X_train,Y_train)\n",
        "y_pred=clf.predict(X_test)"
      ]
    },
    {
      "cell_type": "code",
      "execution_count": null,
      "metadata": {
        "id": "5aqubSP4tUj7",
        "outputId": "00561958-6322-4c64-fcba-bc91fd7e9117"
      },
      "outputs": [
        {
          "data": {
            "text/plain": [
              "0.7655737704918033"
            ]
          },
          "execution_count": 51,
          "metadata": {},
          "output_type": "execute_result"
        }
      ],
      "source": [
        "accuracy_score(Y_test,y_pred)"
      ]
    },
    {
      "cell_type": "markdown",
      "metadata": {
        "id": "H_1MFzkctUj7"
      },
      "source": [
        "# <u>ENSEMBLE MODELLING</u>"
      ]
    },
    {
      "cell_type": "markdown",
      "metadata": {
        "id": "yqc8vz3stUj7"
      },
      "source": [
        "## BAGGING "
      ]
    },
    {
      "cell_type": "code",
      "execution_count": null,
      "metadata": {
        "id": "ADcOJ0TWtUj7"
      },
      "outputs": [],
      "source": [
        "from sklearn.ensemble import BaggingClassifier"
      ]
    },
    {
      "cell_type": "code",
      "execution_count": null,
      "metadata": {
        "id": "riSiPPzOtUj8",
        "outputId": "1ee157f5-d73e-4f3d-fa13-1091b5dc62a3"
      },
      "outputs": [
        {
          "data": {
            "text/plain": [
              "BaggingClassifier(base_estimator=RandomForestClassifier(bootstrap=True,\n",
              "                                                        ccp_alpha=0.0,\n",
              "                                                        class_weight=None,\n",
              "                                                        criterion='gini',\n",
              "                                                        max_depth=None,\n",
              "                                                        max_features='auto',\n",
              "                                                        max_leaf_nodes=None,\n",
              "                                                        max_samples=None,\n",
              "                                                        min_impurity_decrease=0.0,\n",
              "                                                        min_impurity_split=None,\n",
              "                                                        min_samples_leaf=1,\n",
              "                                                        min_samples_split=2,\n",
              "                                                        min_weight_fraction_leaf=0.0,\n",
              "                                                        n_estimators=100,\n",
              "                                                        n_jobs=None,\n",
              "                                                        oob_score=False,\n",
              "                                                        random_state=None,\n",
              "                                                        verbose=0,\n",
              "                                                        warm_start=False),\n",
              "                  bootstrap=True, bootstrap_features=False, max_features=1.0,\n",
              "                  max_samples=0.5, n_estimators=10, n_jobs=None,\n",
              "                  oob_score=False, random_state=None, verbose=0,\n",
              "                  warm_start=False)"
            ]
          },
          "execution_count": 53,
          "metadata": {},
          "output_type": "execute_result"
        }
      ],
      "source": [
        "bg=BaggingClassifier(RandomForestClassifier(),max_samples=0.5,max_features=1.0,n_estimators=10)\n",
        "bg.fit(X_train,Y_train)"
      ]
    },
    {
      "cell_type": "code",
      "execution_count": null,
      "metadata": {
        "id": "3RlHj9lstUj8",
        "outputId": "1d481f0a-722c-46a0-e8e5-cbb87b0dd415"
      },
      "outputs": [
        {
          "data": {
            "text/plain": [
              "0.7576502732240438"
            ]
          },
          "execution_count": 54,
          "metadata": {},
          "output_type": "execute_result"
        }
      ],
      "source": [
        "bg.score(X_test,Y_test)"
      ]
    },
    {
      "cell_type": "markdown",
      "metadata": {
        "id": "WfaBeewltUj8"
      },
      "source": [
        "## BOOSTING"
      ]
    },
    {
      "cell_type": "code",
      "execution_count": null,
      "metadata": {
        "id": "hcgMMfoAtUj8"
      },
      "outputs": [],
      "source": [
        "from sklearn.ensemble import AdaBoostClassifier"
      ]
    },
    {
      "cell_type": "code",
      "execution_count": null,
      "metadata": {
        "id": "_BUiNTvntUj9",
        "outputId": "07376cc4-cb20-4aa6-b147-cbb7ca0c5934"
      },
      "outputs": [
        {
          "data": {
            "text/plain": [
              "AdaBoostClassifier(algorithm='SAMME.R',\n",
              "                   base_estimator=RandomForestClassifier(bootstrap=True,\n",
              "                                                         ccp_alpha=0.0,\n",
              "                                                         class_weight=None,\n",
              "                                                         criterion='gini',\n",
              "                                                         max_depth=None,\n",
              "                                                         max_features='auto',\n",
              "                                                         max_leaf_nodes=None,\n",
              "                                                         max_samples=None,\n",
              "                                                         min_impurity_decrease=0.0,\n",
              "                                                         min_impurity_split=None,\n",
              "                                                         min_samples_leaf=1,\n",
              "                                                         min_samples_split=2,\n",
              "                                                         min_weight_fraction_leaf=0.0,\n",
              "                                                         n_estimators=100,\n",
              "                                                         n_jobs=None,\n",
              "                                                         oob_score=False,\n",
              "                                                         random_state=None,\n",
              "                                                         verbose=0,\n",
              "                                                         warm_start=False),\n",
              "                   learning_rate=1, n_estimators=5, random_state=None)"
            ]
          },
          "execution_count": 56,
          "metadata": {},
          "output_type": "execute_result"
        }
      ],
      "source": [
        "adb=AdaBoostClassifier(RandomForestClassifier(),n_estimators=5,learning_rate=1)\n",
        "adb.fit(X_train,Y_train)"
      ]
    },
    {
      "cell_type": "code",
      "execution_count": null,
      "metadata": {
        "id": "5rBpHPDOtUj9",
        "outputId": "21958a35-75e5-4016-8ae5-2f2175369bef"
      },
      "outputs": [
        {
          "data": {
            "text/plain": [
              "0.7756830601092897"
            ]
          },
          "execution_count": 57,
          "metadata": {},
          "output_type": "execute_result"
        }
      ],
      "source": [
        "adb.score(X_test,Y_test)"
      ]
    },
    {
      "cell_type": "markdown",
      "metadata": {
        "id": "G8YXDZaKtUj9"
      },
      "source": [
        "# <u>SUMMARY</u>"
      ]
    },
    {
      "cell_type": "markdown",
      "metadata": {
        "id": "LYO6QK6ftUj9"
      },
      "source": [
        "**RANDOM FOREST ALGORITHM suits the best for the given dataset.**\n",
        "\n",
        "**BOOSTING has increased its accuracy score a little higher.**\n",
        "\n",
        "**ENSEMBLE MODELLING is a process where multiple diverse models are created to predict an outcome, either by using many different modeling algorithms or using different training data sets.**\n",
        "\n",
        "**The ensemble model then aggregates the prediction of each base model and results in once final prediction for the unseen data.** \n",
        "\n",
        "**The motivation for using ensemble models is to reduce the generalization error of the prediction. As long as the base models are diverse and independent, the prediction error of the model decreases when the ensemble approach is used.**\n",
        "\n"
      ]
    },
    {
      "cell_type": "code",
      "execution_count": null,
      "metadata": {
        "id": "zCJ4bbjUtUj9"
      },
      "outputs": [],
      "source": []
    }
  ],
  "metadata": {
    "kernelspec": {
      "display_name": "Python 3",
      "language": "python",
      "name": "python3"
    },
    "language_info": {
      "codemirror_mode": {
        "name": "ipython",
        "version": 3
      },
      "file_extension": ".py",
      "mimetype": "text/x-python",
      "name": "python",
      "nbconvert_exporter": "python",
      "pygments_lexer": "ipython3",
      "version": "3.7.6"
    },
    "colab": {
      "provenance": []
    }
  },
  "nbformat": 4,
  "nbformat_minor": 0
}